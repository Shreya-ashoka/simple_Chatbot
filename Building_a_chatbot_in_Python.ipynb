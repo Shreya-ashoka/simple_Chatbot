{
  "cells": [
    {
      "cell_type": "code",
      "execution_count": null,
      "metadata": {
        "id": "QhlfRBkUBuvV"
      },
      "outputs": [],
      "source": [
        "#Proprietary content. © Great Learning. All Rights Reserved. Unauthorized use or distribution prohibited."
      ]
    },
    {
      "cell_type": "markdown",
      "metadata": {
        "id": "9Zj9h92wUDPN"
      },
      "source": [
        "**Importing the required libraries**"
      ]
    },
    {
      "cell_type": "code",
      "execution_count": null,
      "metadata": {
        "id": "4BmyocFbb0MJ"
      },
      "outputs": [],
      "source": [
        "import numpy as np\n",
        "import nltk\n",
        "import string\n",
        "import random"
      ]
    },
    {
      "cell_type": "markdown",
      "metadata": {
        "id": "85QE5FDSUKqU"
      },
      "source": [
        "**Importing and reading the corpus**"
      ]
    },
    {
      "cell_type": "code",
      "execution_count": null,
      "metadata": {
        "colab": {
          "base_uri": "https://localhost:8080/"
        },
        "id": "jouIkYEkb9Pk",
        "outputId": "047870c5-3012-4cbc-f7a2-7215182304ff"
      },
      "outputs": [
        {
          "name": "stderr",
          "output_type": "stream",
          "text": [
            "[nltk_data] Downloading package punkt to /root/nltk_data...\n",
            "[nltk_data]   Unzipping tokenizers/punkt.zip.\n",
            "[nltk_data] Downloading package wordnet to /root/nltk_data...\n"
          ]
        }
      ],
      "source": [
        "f=open('chatbot.txt','r',errors = 'ignore')\n",
        "raw_doc=f.read()\n",
        "raw_doc=raw_doc.lower() #Converts text to lowercase\n",
        "nltk.download('punkt') #Using the Punkt tokenizer\n",
        "nltk.download('wordnet') #Using the WordNet dictionary\n",
        "sent_tokens = nltk.sent_tokenize(raw_doc) #Converts doc to list of sentences\n",
        "word_tokens = nltk.word_tokenize(raw_doc) #Converts doc to list of words"
      ]
    },
    {
      "cell_type": "markdown",
      "metadata": {
        "id": "pmXgGkVeUSUb"
      },
      "source": [
        "**Example of sentance tokens**"
      ]
    },
    {
      "cell_type": "code",
      "execution_count": null,
      "metadata": {
        "colab": {
          "base_uri": "https://localhost:8080/"
        },
        "id": "Swu4WRVncPR8",
        "outputId": "fde8816d-730c-40da-a5be-12af3da0f46d"
      },
      "outputs": [
        {
          "data": {
            "text/plain": [
              "['data science is an interdisciplinary academic field[1] that uses statistics, scientific computing, scientific methods, processes, algorithms and systems to extract or extrapolate knowledge and insights from potentially noisy, structured, or unstructured data.',\n",
              " '[2]\\n\\ndata science also integrates domain knowledge from the underlying application domain (e.g., natural sciences, information technology, and medicine).']"
            ]
          },
          "execution_count": 3,
          "metadata": {},
          "output_type": "execute_result"
        }
      ],
      "source": [
        "sent_tokens[:2]"
      ]
    },
    {
      "cell_type": "markdown",
      "metadata": {
        "id": "Gtkzd0KhUWJT"
      },
      "source": [
        "**Example of word tokens**"
      ]
    },
    {
      "cell_type": "code",
      "execution_count": null,
      "metadata": {
        "colab": {
          "base_uri": "https://localhost:8080/"
        },
        "id": "hcwrvmWicaLc",
        "outputId": "fa3f9c47-dcf6-49cf-a344-35ea73bd7388"
      },
      "outputs": [
        {
          "data": {
            "text/plain": [
              "['data', 'science']"
            ]
          },
          "execution_count": 4,
          "metadata": {},
          "output_type": "execute_result"
        }
      ],
      "source": [
        "word_tokens[:2]"
      ]
    },
    {
      "cell_type": "markdown",
      "metadata": {
        "id": "bvvYcZZ9UbVD"
      },
      "source": [
        "**Text preprocessing**"
      ]
    },
    {
      "cell_type": "code",
      "execution_count": null,
      "metadata": {
        "id": "YbZllVqBcc78"
      },
      "outputs": [],
      "source": [
        "lemmer = nltk.stem.WordNetLemmatizer()\n",
        "#WordNet is a semantically-oriented dictionary of English included in NLTK.\n",
        "def LemTokens(tokens):\n",
        "    return [lemmer.lemmatize(token) for token in tokens]\n",
        "remove_punct_dict = dict((ord(punct), None) for punct in string.punctuation)\n",
        "def LemNormalize(text):\n",
        "    return LemTokens(nltk.word_tokenize(text.lower().translate(remove_punct_dict)))"
      ]
    },
    {
      "cell_type": "markdown",
      "metadata": {
        "id": "tLX8WBE4UgOr"
      },
      "source": [
        "**Defining the greeting function**"
      ]
    },
    {
      "cell_type": "code",
      "execution_count": null,
      "metadata": {
        "id": "dLOqphibchJM"
      },
      "outputs": [],
      "source": [
        "GREET_INPUTS = (\"hello\", \"hi\", \"greetings\", \"sup\", \"what's up\",\"hey\")\n",
        "GREET_RESPONSES = [\"hi\", \"hey\", \"*nods*\", \"hi there\", \"hello\", \"I am glad! You are talking to me\"]\n",
        "def greet(sentence):\n",
        "\n",
        "    for word in sentence.split():\n",
        "        if word.lower() in GREET_INPUTS:\n",
        "            return random.choice(GREET_RESPONSES)"
      ]
    },
    {
      "cell_type": "markdown",
      "metadata": {
        "id": "5sJrTwvgEqF-"
      },
      "source": [
        "TfidfVectorizer:\n",
        "\n",
        "TF-IDF is a numerical statistic that reflects how important a word is to a document in a collection or corpus.\n",
        "TfidfVectorizer is a class in scikit-learn that transforms a collection of raw documents into a matrix of TF-IDF features.\n",
        "It takes care of tokenization, stop-word removal, and other preprocessing steps while creating the TF-IDF matrix.\n",
        "cosine_similarity:\n",
        "\n",
        "Cosine similarity is a metric used to measure the similarity between two non-zero vectors of an inner product space.\n",
        "In the context of text processing, it's often used to compare the similarity between two documents represented as vectors (e.g., TF-IDF vectors).\n",
        "The output is a similarity matrix where each element (i, j) represents the cosine similarity between document i and document j."
      ]
    },
    {
      "cell_type": "markdown",
      "metadata": {
        "id": "qJhFmyRCUm4j"
      },
      "source": [
        "**Response generation**"
      ]
    },
    {
      "cell_type": "code",
      "execution_count": null,
      "metadata": {
        "id": "eo7Kv52HcjG0"
      },
      "outputs": [],
      "source": [
        "from sklearn.feature_extraction.text import TfidfVectorizer\n",
        "from sklearn.metrics.pairwise import cosine_similarity"
      ]
    },
    {
      "cell_type": "markdown",
      "metadata": {
        "id": "4n2BHFSNFGrS"
      },
      "source": [
        "TF-IDF Vectorization:\n",
        "\n",
        "The code uses TfidfVectorizer from scikit-learn to convert a list of preprocessed sentences (sent_tokens) into a TF-IDF matrix.\n",
        "Cosine Similarity Calculation:\n",
        "\n",
        "It calculates the cosine similarity between the TF-IDF vector of the user's input (the last vector in the matrix) and all other vectors in the TF-IDF matrix.\n",
        "Identifying Most Similar Sentence:\n",
        "\n",
        "It identifies the index of the sentence with the second-highest cosine similarity value to the user's input.\n",
        "Determining TF-IDF Value:\n",
        "\n",
        "It extracts the second-highest cosine similarity value, which represents the importance of the identified sentence in relation to the user's input.\n",
        "Generating Response:\n",
        "\n",
        "If the second-highest TF-IDF value is zero, the response indicates a lack of understanding. Otherwise, the response is set to the most similar sentence."
      ]
    },
    {
      "cell_type": "code",
      "execution_count": null,
      "metadata": {
        "id": "JEHZesw3cnNM"
      },
      "outputs": [],
      "source": [
        "def response(user_response):\n",
        "  robo1_response=''\n",
        "  TfidfVec = TfidfVectorizer(tokenizer=LemNormalize, stop_words='english')\n",
        "  tfidf = TfidfVec.fit_transform(sent_tokens)\n",
        "  vals = cosine_similarity(tfidf[-1], tfidf)\n",
        "  idx=vals.argsort()[0][-2]\n",
        "  flat = vals.flatten()\n",
        "  flat.sort()\n",
        "  req_tfidf = flat[-2]\n",
        "  if(req_tfidf==0):\n",
        "    robo1_response=robo1_response+\"I am sorry! I don't understand you\"\n",
        "    return robo1_response\n",
        "  else:\n",
        "    robo1_response = robo1_response+sent_tokens[idx]\n",
        "    return robo1_response"
      ]
    },
    {
      "cell_type": "markdown",
      "metadata": {
        "id": "1Q-iY_o1Utas"
      },
      "source": [
        "**Defining conversation start/end protocols**"
      ]
    },
    {
      "cell_type": "code",
      "execution_count": null,
      "metadata": {
        "colab": {
          "background_save": true,
          "base_uri": "https://localhost:8080/"
        },
        "id": "wxzENVDgdNGd",
        "outputId": "6ecdcb42-3af7-4187-f43b-b71c5e397900"
      },
      "outputs": [
        {
          "name": "stdout",
          "output_type": "stream",
          "text": [
            "BOT: My name is Stark. Let's have a conversation! Also, if you want to exit any time, just type Bye!\n"
          ]
        }
      ],
      "source": [
        "flag=True\n",
        "print(\"BOT: My name is Stark. Let's have a conversation! Also, if you want to exit any time, just type Bye!\")\n",
        "while(flag==True):\n",
        "    user_response = input()\n",
        "    user_response=user_response.lower()\n",
        "    if(user_response!='bye'):\n",
        "        if(user_response=='thanks' or user_response=='thank you' ):\n",
        "            flag=False\n",
        "            print(\"BOT: You are welcome..\")\n",
        "        else:\n",
        "            if(greet(user_response)!=None):\n",
        "                print(\"BOT: \"+greet(user_response))\n",
        "            else:\n",
        "                sent_tokens.append(user_response)\n",
        "                word_tokens=word_tokens+nltk.word_tokenize(user_response)\n",
        "                final_words=list(set(word_tokens))\n",
        "                print(\"BOT: \",end=\"\")\n",
        "                print(response(user_response))\n",
        "                sent_tokens.remove(user_response)\n",
        "    else:\n",
        "        flag=False\n",
        "        print(\"BOT: Goodbye! Take care <3 \")"
      ]
    },
    {
      "cell_type": "markdown",
      "metadata": {
        "id": "f5yXpRQMXopU"
      },
      "source": [
        "\n",
        "\n",
        "---\n",
        "\n"
      ]
    }
  ],
  "metadata": {
    "colab": {
      "provenance": []
    },
    "kernelspec": {
      "display_name": "Python 3",
      "language": "python",
      "name": "python3"
    },
    "language_info": {
      "codemirror_mode": {
        "name": "ipython",
        "version": 3
      },
      "file_extension": ".py",
      "mimetype": "text/x-python",
      "name": "python",
      "nbconvert_exporter": "python",
      "pygments_lexer": "ipython3",
      "version": "3.8.3"
    }
  },
  "nbformat": 4,
  "nbformat_minor": 0
}